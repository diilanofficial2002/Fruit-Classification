{
 "cells": [
  {
   "cell_type": "markdown",
   "metadata": {},
   "source": [
    "## Check and Prepare data"
   ]
  },
  {
   "cell_type": "markdown",
   "metadata": {},
   "source": [
    "### Check Count data"
   ]
  },
  {
   "cell_type": "code",
   "execution_count": 13,
   "metadata": {},
   "outputs": [],
   "source": [
    "import os\n",
    "\n",
    "def count_files_in_folder(folder_path):\n",
    "    try:\n",
    "        return len([file for file in os.listdir(folder_path)])\n",
    "    except FileNotFoundError:\n",
    "        return \"Folder not found!\"\n"
   ]
  },
  {
   "cell_type": "code",
   "execution_count": 14,
   "metadata": {},
   "outputs": [
    {
     "name": "stdout",
     "output_type": "stream",
     "text": [
      "['../../data/raw/train/apple', '../../data/raw/train/cabbage', '../../data/raw/train/carrot', '../../data/raw/train/cucumber', '../../data/raw/train/eggplant', '../../data/raw/train/pear', '../../data/raw/validation/apple', '../../data/raw/validation/cabbage', '../../data/raw/validation/carrot', '../../data/raw/validation/cucumber', '../../data/raw/validation/eggplant', '../../data/raw/validation/pear', '../../data/raw/test/apple', '../../data/raw/test/cabbage', '../../data/raw/test/carrot', '../../data/raw/test/cucumber', '../../data/raw/test/eggplant', '../../data/raw/test/pear']\n"
     ]
    }
   ],
   "source": [
    "from itertools import chain\n",
    "import os\n",
    "\n",
    "# Function to get relative paths of folders with a prefix\n",
    "def get_relative_folders_with_prefix(root_folder, prefix=\"../../\"):\n",
    "    relative_folders = []\n",
    "    \n",
    "    for folder_name in os.listdir(root_folder):\n",
    "        folder_path = os.path.join(root_folder, folder_name)\n",
    "        if os.path.isdir(folder_path):  # Check if it's a folder\n",
    "            relative_folders.append(os.path.join(prefix, folder_name))\n",
    "    \n",
    "    return relative_folders\n",
    "\n",
    "# Example usage\n",
    "root_folder1 = \"../../data/raw/train\"\n",
    "prefix1 = f\"{root_folder1}/\"\n",
    "folders_with_prefix1 = get_relative_folders_with_prefix(root_folder1, prefix1)\n",
    "\n",
    "root_folder2 = \"../../data/raw/validation\"\n",
    "prefix2 = f\"{root_folder2}/\"\n",
    "folders_with_prefix2 = get_relative_folders_with_prefix(root_folder2, prefix2)\n",
    "\n",
    "root_folder3 = \"../../data/raw/test\"\n",
    "prefix3 = f\"{root_folder3}/\"\n",
    "folders_with_prefix3 = get_relative_folders_with_prefix(root_folder3, prefix3)\n",
    "\n",
    "folders_with_prefix = list(chain(folders_with_prefix1, folders_with_prefix2, folders_with_prefix3))\n",
    "\n",
    "# Print the result\n",
    "print(folders_with_prefix)\n"
   ]
  },
  {
   "cell_type": "code",
   "execution_count": 15,
   "metadata": {},
   "outputs": [
    {
     "name": "stdout",
     "output_type": "stream",
     "text": [
      "Number of files in ../../data/raw/train/apple: 6498\n",
      "Number of files in ../../data/raw/train/cabbage: 176\n",
      "Number of files in ../../data/raw/train/carrot: 552\n",
      "Number of files in ../../data/raw/train/cucumber: 1264\n",
      "Number of files in ../../data/raw/train/eggplant: 270\n",
      "Number of files in ../../data/raw/train/pear: 964\n",
      "Number of files in ../../data/raw/validation/apple: 1625\n",
      "Number of files in ../../data/raw/validation/cabbage: 45\n",
      "Number of files in ../../data/raw/validation/carrot: 138\n",
      "Number of files in ../../data/raw/validation/cucumber: 316\n",
      "Number of files in ../../data/raw/validation/eggplant: 68\n",
      "Number of files in ../../data/raw/validation/pear: 242\n",
      "Number of files in ../../data/raw/test/apple: 1624\n",
      "Number of files in ../../data/raw/test/cabbage: 44\n",
      "Number of files in ../../data/raw/test/carrot: 138\n",
      "Number of files in ../../data/raw/test/cucumber: 316\n",
      "Number of files in ../../data/raw/test/eggplant: 67\n",
      "Number of files in ../../data/raw/test/pear: 241\n"
     ]
    }
   ],
   "source": [
    "folder_paths = folders_with_prefix\n",
    "\n",
    "for folder_path in folder_paths: \n",
    "    file_count = count_files_in_folder(folder_path)\n",
    "    print(f\"Number of files in {folder_path}: {file_count}\")"
   ]
  },
  {
   "cell_type": "markdown",
   "metadata": {},
   "source": [
    "### Check image size"
   ]
  },
  {
   "cell_type": "code",
   "execution_count": 16,
   "metadata": {},
   "outputs": [
    {
     "name": "stdout",
     "output_type": "stream",
     "text": [
      "Folder: ../../data/raw/train/apple\n",
      "Largest Image: r0_238_7.jpg with size 889x902 pixels\n",
      "Smallest Image: 10KRA2V6IR4W.jpg with size 256x256 pixels\n",
      "\n",
      "Folder: ../../data/raw/train/cabbage\n",
      "Largest Image: r0_78.jpg with size 785x766 pixels\n",
      "Smallest Image: 1I6VLWT838MY.jpg with size 256x256 pixels\n",
      "\n",
      "Folder: ../../data/raw/train/carrot\n",
      "Largest Image: r0_30.jpg with size 217x649 pixels\n",
      "Smallest Image: 008A1K43RS91.jpg with size 128x128 pixels\n",
      "\n",
      "Folder: ../../data/raw/train/cucumber\n",
      "Largest Image: r0_109_1.jpg with size 373x1008 pixels\n",
      "Smallest Image: 01G2WAX8DVHE.jpg with size 256x256 pixels\n",
      "\n",
      "Folder: ../../data/raw/train/eggplant\n",
      "Largest Image: r0_124.jpg with size 203x692 pixels\n",
      "Smallest Image: r0_44.jpg with size 100x631 pixels\n",
      "\n",
      "Folder: ../../data/raw/train/pear\n",
      "Largest Image: r0_73_1.jpg with size 624x746 pixels\n",
      "Smallest Image: 089AWLOGING7.jpg with size 256x256 pixels\n",
      "\n",
      "Folder: ../../data/raw/validation/apple\n",
      "Largest Image: r0_218_7.jpg with size 889x904 pixels\n",
      "Smallest Image: 10XOKPXTSY0P.jpg with size 256x256 pixels\n",
      "\n",
      "Folder: ../../data/raw/validation/cabbage\n",
      "Largest Image: r0_79.jpg with size 785x766 pixels\n",
      "Smallest Image: 2ZA8M5WNRTLY.jpg with size 256x256 pixels\n",
      "\n",
      "Folder: ../../data/raw/validation/carrot\n",
      "Largest Image: r0_37.jpg with size 214x653 pixels\n",
      "Smallest Image: 05BE4MA9MWDK.jpg with size 128x128 pixels\n",
      "\n",
      "Folder: ../../data/raw/validation/cucumber\n",
      "Largest Image: r0_118_1.jpg with size 378x994 pixels\n",
      "Smallest Image: 01POO3QXM8P4.jpg with size 256x256 pixels\n",
      "\n",
      "Folder: ../../data/raw/validation/eggplant\n",
      "Largest Image: r0_129.jpg with size 200x697 pixels\n",
      "Smallest Image: r0_36.jpg with size 103x630 pixels\n",
      "\n",
      "Folder: ../../data/raw/validation/pear\n",
      "Largest Image: r0_75_1.jpg with size 623x749 pixels\n",
      "Smallest Image: 0RVT0ZQHP6DI.jpg with size 256x256 pixels\n",
      "\n",
      "Folder: ../../data/raw/test/apple\n",
      "Largest Image: r0_222_7.jpg with size 887x904 pixels\n",
      "Smallest Image: 1XNKAJI6ESUY.jpg with size 256x256 pixels\n",
      "\n",
      "Folder: ../../data/raw/test/cabbage\n",
      "Largest Image: r0_80.jpg with size 786x766 pixels\n",
      "Smallest Image: 171OGHFQHP0V.jpg with size 256x256 pixels\n",
      "\n",
      "Folder: ../../data/raw/test/carrot\n",
      "Largest Image: r0_31.jpg with size 216x649 pixels\n",
      "Smallest Image: 03X1IJLYZHZO.jpg with size 128x128 pixels\n",
      "\n",
      "Folder: ../../data/raw/test/cucumber\n",
      "Largest Image: r0_119_1.jpg with size 377x992 pixels\n",
      "Smallest Image: 013OCXZ584YC.jpg with size 256x256 pixels\n",
      "\n",
      "Folder: ../../data/raw/test/eggplant\n",
      "Largest Image: r0_127.jpg with size 202x695 pixels\n",
      "Smallest Image: r0_27.jpg with size 103x631 pixels\n",
      "\n",
      "Folder: ../../data/raw/test/pear\n",
      "Largest Image: r0_77_1.jpg with size 621x749 pixels\n",
      "Smallest Image: 02VIOQ3QPS8A.jpg with size 256x256 pixels\n",
      "\n"
     ]
    }
   ],
   "source": [
    "from PIL import Image\n",
    "import os\n",
    "\n",
    "# Define the folder path\n",
    "folder_paths = folders_with_prefix\n",
    "\n",
    "for folder_path in folder_paths:\n",
    "    # Initialize variables to track the largest and smallest images\n",
    "    largest_image = {'name': None, 'size': (0, 0)}\n",
    "    smallest_image = {'name': None, 'size': (float('inf'), float('inf'))}\n",
    "\n",
    "    # Read all files in the folder\n",
    "    file_list = os.listdir(folder_path)\n",
    "    for file_name in file_list:\n",
    "        file_path = os.path.join(folder_path, file_name)\n",
    "        try:\n",
    "            with Image.open(file_path) as img:\n",
    "                width, height = img.size  # Get image dimensions\n",
    "                \n",
    "                # Check for the largest image\n",
    "                if width * height > largest_image['size'][0] * largest_image['size'][1]:\n",
    "                    largest_image = {'name': file_name, 'size': (width, height)}\n",
    "                \n",
    "                # Check for the smallest image\n",
    "                if width * height < smallest_image['size'][0] * smallest_image['size'][1]:\n",
    "                    smallest_image = {'name': file_name, 'size': (width, height)}\n",
    "        except Exception as e:\n",
    "            print(f\"Error processing file {file_name}: {e}\")\n",
    "\n",
    "    # Output the results\n",
    "    print(f'Folder: {folder_path}')\n",
    "    print(f\"Largest Image: {largest_image['name']} with size {largest_image['size'][0]}x{largest_image['size'][1]} pixels\")\n",
    "    print(f\"Smallest Image: {smallest_image['name']} with size {smallest_image['size'][0]}x{smallest_image['size'][1]} pixels\")\n",
    "    print()"
   ]
  },
  {
   "cell_type": "markdown",
   "metadata": {},
   "source": [
    "## Data augmentation"
   ]
  },
  {
   "cell_type": "markdown",
   "metadata": {},
   "source": [
    "### Resize image"
   ]
  },
  {
   "cell_type": "code",
   "execution_count": 17,
   "metadata": {},
   "outputs": [
    {
     "name": "stdout",
     "output_type": "stream",
     "text": [
      "['../../data/processed/resize/train/apple', '../../data/processed/resize/train/cabbage', '../../data/processed/resize/train/carrot', '../../data/processed/resize/train/cucumber', '../../data/processed/resize/train/eggplant', '../../data/processed/resize/train/pear', '../../data/processed/resize/validation/apple', '../../data/processed/resize/validation/cabbage', '../../data/processed/resize/validation/carrot', '../../data/processed/resize/validation/cucumber', '../../data/processed/resize/validation/eggplant', '../../data/processed/resize/validation/pear', '../../data/processed/resize/test/apple', '../../data/processed/resize/test/cabbage', '../../data/processed/resize/test/carrot', '../../data/processed/resize/test/cucumber', '../../data/processed/resize/test/eggplant', '../../data/processed/resize/test/pear']\n"
     ]
    }
   ],
   "source": [
    "from itertools import chain\n",
    "import os\n",
    "\n",
    "# Function to get relative paths of folders with a prefix\n",
    "def get_relative_folders_with_prefix(root_folder, prefix=\"../../\"):\n",
    "    relative_folders = []\n",
    "    \n",
    "    for folder_name in os.listdir(root_folder):\n",
    "        folder_path = os.path.join(root_folder, folder_name)\n",
    "        if os.path.isdir(folder_path):  # Check if it's a folder\n",
    "            relative_folders.append(os.path.join(prefix, folder_name))\n",
    "    \n",
    "    return relative_folders\n",
    "\n",
    "# Example usage\n",
    "rooter = \"../../data\"\n",
    "root_folder1 = \"train\"\n",
    "prefix1 = f\"{rooter}/processed/resize/{root_folder1}/\"\n",
    "folders_with_prefix1 = get_relative_folders_with_prefix(f\"{rooter}/raw/{root_folder1}/\", prefix1)\n",
    "\n",
    "root_folder2 = \"validation\"\n",
    "prefix2 = f\"{rooter}/processed/resize/{root_folder2}/\"\n",
    "folders_with_prefix2 = get_relative_folders_with_prefix(f\"{rooter}/raw/{root_folder2}/\", prefix2)\n",
    "\n",
    "root_folder3 = \"test\"\n",
    "prefix3 = f\"{rooter}/processed/resize/{root_folder3}/\"\n",
    "folders_with_prefix3 = get_relative_folders_with_prefix(f\"{rooter}/raw/{root_folder3}/\", prefix3)\n",
    "\n",
    "folders_with_prefix_aug_re = list(chain(folders_with_prefix1, folders_with_prefix2, folders_with_prefix3))\n",
    "\n",
    "# Print the result\n",
    "print(folders_with_prefix_aug_re)\n"
   ]
  },
  {
   "cell_type": "code",
   "execution_count": 18,
   "metadata": {},
   "outputs": [
    {
     "name": "stdout",
     "output_type": "stream",
     "text": [
      "All images are resized and saved in the folder '../../data/processed/resize/train/apple'.\n",
      "All images are resized and saved in the folder '../../data/processed/resize/train/cabbage'.\n",
      "All images are resized and saved in the folder '../../data/processed/resize/train/carrot'.\n",
      "All images are resized and saved in the folder '../../data/processed/resize/train/cucumber'.\n",
      "All images are resized and saved in the folder '../../data/processed/resize/train/eggplant'.\n",
      "All images are resized and saved in the folder '../../data/processed/resize/train/pear'.\n",
      "All images are resized and saved in the folder '../../data/processed/resize/validation/apple'.\n",
      "All images are resized and saved in the folder '../../data/processed/resize/validation/cabbage'.\n",
      "All images are resized and saved in the folder '../../data/processed/resize/validation/carrot'.\n",
      "All images are resized and saved in the folder '../../data/processed/resize/validation/cucumber'.\n",
      "All images are resized and saved in the folder '../../data/processed/resize/validation/eggplant'.\n",
      "All images are resized and saved in the folder '../../data/processed/resize/validation/pear'.\n",
      "All images are resized and saved in the folder '../../data/processed/resize/test/apple'.\n",
      "All images are resized and saved in the folder '../../data/processed/resize/test/cabbage'.\n",
      "All images are resized and saved in the folder '../../data/processed/resize/test/carrot'.\n",
      "All images are resized and saved in the folder '../../data/processed/resize/test/cucumber'.\n",
      "All images are resized and saved in the folder '../../data/processed/resize/test/eggplant'.\n",
      "All images are resized and saved in the folder '../../data/processed/resize/test/pear'.\n"
     ]
    }
   ],
   "source": [
    "from PIL import Image\n",
    "import os\n",
    "\n",
    "source_folders = folders_with_prefix\n",
    "target_folders = folders_with_prefix_aug_re\n",
    "\n",
    "for i in range(len(source_folders)):\n",
    "    source_folder = source_folders[i]\n",
    "    target_folder = target_folders[i]\n",
    "\n",
    "    if not os.path.exists(target_folder):\n",
    "        os.makedirs(target_folder)\n",
    "\n",
    "    target_size = (150, 150)  # (Hight, Width)\n",
    "\n",
    "    for file_name in os.listdir(source_folder):\n",
    "        source_path = os.path.join(source_folder, file_name)\n",
    "        target_path = os.path.join(target_folder, file_name)\n",
    "        \n",
    "        try:\n",
    "            with Image.open(source_path) as img:\n",
    "                # Stretch/Shrink image\n",
    "                resized_img = img.resize(target_size, Image.Resampling.LANCZOS)\n",
    "                resized_img.save(target_path)\n",
    "                # print(f\"Resized and saved: {file_name}\")\n",
    "        except Exception as e:\n",
    "            print(f\"Error processing file {file_name}: {e}\")\n",
    "\n",
    "    print(f\"All images are resized and saved in the folder '{target_folder}'.\")\n"
   ]
  },
  {
   "cell_type": "markdown",
   "metadata": {},
   "source": [
    "### Adjust image"
   ]
  },
  {
   "cell_type": "code",
   "execution_count": 19,
   "metadata": {},
   "outputs": [
    {
     "name": "stdout",
     "output_type": "stream",
     "text": [
      "['../../data/processed/adjusting/train/apple', '../../data/processed/adjusting/train/cabbage', '../../data/processed/adjusting/train/carrot', '../../data/processed/adjusting/train/cucumber', '../../data/processed/adjusting/train/eggplant', '../../data/processed/adjusting/train/pear', '../../data/processed/adjusting/validation/apple', '../../data/processed/adjusting/validation/cabbage', '../../data/processed/adjusting/validation/carrot', '../../data/processed/adjusting/validation/cucumber', '../../data/processed/adjusting/validation/eggplant', '../../data/processed/adjusting/validation/pear', '../../data/processed/adjusting/test/apple', '../../data/processed/adjusting/test/cabbage', '../../data/processed/adjusting/test/carrot', '../../data/processed/adjusting/test/cucumber', '../../data/processed/adjusting/test/eggplant', '../../data/processed/adjusting/test/pear']\n"
     ]
    }
   ],
   "source": [
    "from itertools import chain\n",
    "import os\n",
    "\n",
    "# Function to get relative paths of folders with a prefix\n",
    "def get_relative_folders_with_prefix(root_folder, prefix=\"../../\"):\n",
    "    relative_folders = []\n",
    "    \n",
    "    for folder_name in os.listdir(root_folder):\n",
    "        folder_path = os.path.join(root_folder, folder_name)\n",
    "        if os.path.isdir(folder_path):  # Check if it's a folder\n",
    "            relative_folders.append(os.path.join(prefix, folder_name))\n",
    "    \n",
    "    return relative_folders\n",
    "\n",
    "# Example usage\n",
    "rooter = \"../../data\"\n",
    "root_folder1 = \"train\"\n",
    "prefix1 = f\"{rooter}/processed/adjusting/{root_folder1}/\"\n",
    "folders_with_prefix1 = get_relative_folders_with_prefix(f\"{rooter}/raw/{root_folder1}/\", prefix1)\n",
    "\n",
    "root_folder2 = \"validation\"\n",
    "prefix2 = f\"{rooter}/processed/adjusting/{root_folder2}/\"\n",
    "folders_with_prefix2 = get_relative_folders_with_prefix(f\"{rooter}/raw/{root_folder2}/\", prefix2)\n",
    "\n",
    "root_folder3 = \"test\"\n",
    "prefix3 = f\"{rooter}/processed/adjusting/{root_folder3}/\"\n",
    "folders_with_prefix3 = get_relative_folders_with_prefix(f\"{rooter}/raw/{root_folder3}/\", prefix3)\n",
    "\n",
    "folders_with_prefix_aug_adj = list(chain(folders_with_prefix1, folders_with_prefix2, folders_with_prefix3))\n",
    "\n",
    "# Print the result\n",
    "print(folders_with_prefix_aug_adj)\n"
   ]
  },
  {
   "cell_type": "code",
   "execution_count": 20,
   "metadata": {},
   "outputs": [
    {
     "name": "stdout",
     "output_type": "stream",
     "text": [
      "All images (original + augmentations) are saved in '../../data/processed/adjusting/train/apple'.\n",
      "All images (original + augmentations) are saved in '../../data/processed/adjusting/train/cabbage'.\n",
      "All images (original + augmentations) are saved in '../../data/processed/adjusting/train/carrot'.\n",
      "All images (original + augmentations) are saved in '../../data/processed/adjusting/train/cucumber'.\n",
      "All images (original + augmentations) are saved in '../../data/processed/adjusting/train/eggplant'.\n",
      "All images (original + augmentations) are saved in '../../data/processed/adjusting/train/pear'.\n",
      "All images (original + augmentations) are saved in '../../data/processed/adjusting/validation/apple'.\n",
      "All images (original + augmentations) are saved in '../../data/processed/adjusting/validation/cabbage'.\n",
      "All images (original + augmentations) are saved in '../../data/processed/adjusting/validation/carrot'.\n",
      "All images (original + augmentations) are saved in '../../data/processed/adjusting/validation/cucumber'.\n",
      "All images (original + augmentations) are saved in '../../data/processed/adjusting/validation/eggplant'.\n",
      "All images (original + augmentations) are saved in '../../data/processed/adjusting/validation/pear'.\n",
      "All images (original + augmentations) are saved in '../../data/processed/adjusting/test/apple'.\n",
      "All images (original + augmentations) are saved in '../../data/processed/adjusting/test/cabbage'.\n",
      "All images (original + augmentations) are saved in '../../data/processed/adjusting/test/carrot'.\n",
      "All images (original + augmentations) are saved in '../../data/processed/adjusting/test/cucumber'.\n",
      "All images (original + augmentations) are saved in '../../data/processed/adjusting/test/eggplant'.\n",
      "All images (original + augmentations) are saved in '../../data/processed/adjusting/test/pear'.\n"
     ]
    }
   ],
   "source": [
    "import os\n",
    "import cv2\n",
    "import albumentations as A\n",
    "\n",
    "# Paths\n",
    "source_folders = folders_with_prefix\n",
    "output_folders = folders_with_prefix_aug_adj\n",
    "\n",
    "for order in range(len(source_folders)):\n",
    "    source_folder = source_folders[order]\n",
    "    output_folder = output_folders[order]\n",
    "\n",
    "    # Create output folder if it doesn't exist\n",
    "    if not os.path.exists(output_folder):\n",
    "        os.makedirs(output_folder)\n",
    "\n",
    "    # Define complex augmentations with resizing to original dimensions\n",
    "    def get_augmentation_pipeline(image_width, image_height):\n",
    "        return A.Compose([\n",
    "            # A.RandomCrop(width=image_width // 2, height=image_height // 2, p=0.5),    # Random crop, half size\n",
    "            A.HorizontalFlip(p=0.5),                                                  # Flip horizontally\n",
    "            A.VerticalFlip(p=0.2),                                                    # Flip vertically\n",
    "            A.RandomBrightnessContrast(p=0.5),                                        # Adjust brightness/contrast\n",
    "            A.GaussianBlur(blur_limit=(3, 7), p=0.3),                                 # Apply Gaussian blur\n",
    "            A.Rotate(limit=45, p=0.5),                                                # Random rotation\n",
    "            A.RGBShift(r_shift_limit=20, g_shift_limit=20, b_shift_limit=20, p=0.3),  # Shift RGB channels\n",
    "            A.CLAHE(clip_limit=2, p=0.3),                                             # Adaptive histogram equalization\n",
    "            A.MultiplicativeNoise(multiplier=(0.9, 1.1), p=0.3),                      # Add noise\n",
    "            A.Resize(height=image_height, width=image_width, p=1.0)                   # Resize back to original size\n",
    "        ])\n",
    "\n",
    "    # Process and augment each image\n",
    "    for file_name in os.listdir(source_folder):\n",
    "        source_path = os.path.join(source_folder, file_name)\n",
    "        \n",
    "        try:\n",
    "            # Read the image\n",
    "            image = cv2.imread(source_path)\n",
    "            if image is None:\n",
    "                print(f\"Skipping non-image file: {file_name}\")\n",
    "                continue\n",
    "            \n",
    "            # Get original dimensions\n",
    "            image_height, image_width = image.shape[:2]\n",
    "            \n",
    "            # Save original image\n",
    "            original_output_path = os.path.join(output_folder, f\"{os.path.splitext(file_name)[0]}_original.jpg\")\n",
    "            cv2.imwrite(original_output_path, image)\n",
    "            \n",
    "            # Define the augmentation pipeline with resizing to original dimensions\n",
    "            augmentation_pipeline = get_augmentation_pipeline(image_width, image_height)\n",
    "            \n",
    "            # Generate augmented images\n",
    "            for i in range(5):  # Number of augmentations per image\n",
    "                augmented = augmentation_pipeline(image=image)\n",
    "                augmented_image = augmented[\"image\"]\n",
    "                \n",
    "                # Save augmented image\n",
    "                augmented_output_path = os.path.join(output_folder, f\"{os.path.splitext(file_name)[0]}_aug_{i}.jpg\")\n",
    "                cv2.imwrite(augmented_output_path, augmented_image)\n",
    "                # print(f\"Saved augmented image: {augmented_output_path}\")\n",
    "        \n",
    "        except Exception as e:\n",
    "            print(f\"Error processing file {file_name}: {e}\")\n",
    "\n",
    "    print(f\"All images (original + augmentations) are saved in '{output_folder}'.\")\n"
   ]
  },
  {
   "cell_type": "markdown",
   "metadata": {},
   "source": [
    "### Recheck image size"
   ]
  },
  {
   "cell_type": "code",
   "execution_count": 22,
   "metadata": {},
   "outputs": [],
   "source": [
    "# from PIL import Image\n",
    "# import os\n",
    "\n",
    "# # Define the folder path\n",
    "# folder_paths = [\n",
    "#     \"../../data/processed/augmentation/train/cats\",\n",
    "#     \"../../data/processed/augmentation/train/dogs\",\n",
    "#     \"../../data/processed/augmentation/test/cats\",\n",
    "#     \"../../data/processed/augmentation/test/dogs\",\n",
    "# ]\n",
    "\n",
    "# for folder_path in folder_paths:\n",
    "#     # Initialize variables to track the largest and smallest images\n",
    "#     largest_image = {'name': None, 'size': (0, 0)}\n",
    "#     smallest_image = {'name': None, 'size': (float('inf'), float('inf'))}\n",
    "\n",
    "#     # Read all files in the folder\n",
    "#     file_list = os.listdir(folder_path)\n",
    "#     for file_name in file_list:\n",
    "#         file_path = os.path.join(folder_path, file_name)\n",
    "#         try:\n",
    "#             with Image.open(file_path) as img:\n",
    "#                 width, height = img.size  # Get image dimensions\n",
    "                \n",
    "#                 # Check for the largest image\n",
    "#                 if width * height > largest_image['size'][0] * largest_image['size'][1]:\n",
    "#                     largest_image = {'name': file_name, 'size': (width, height)}\n",
    "                \n",
    "#                 # Check for the smallest image\n",
    "#                 if width * height < smallest_image['size'][0] * smallest_image['size'][1]:\n",
    "#                     smallest_image = {'name': file_name, 'size': (width, height)}\n",
    "#         except Exception as e:\n",
    "#             print(f\"Error processing file {file_name}: {e}\")\n",
    "\n",
    "#     # Output the results\n",
    "#     print(f'Folder: {folder_path}')\n",
    "#     print(f\"Largest Image: {largest_image['name']} with size {largest_image['size'][0]}x{largest_image['size'][1]} pixels\")\n",
    "#     print(f\"Smallest Image: {smallest_image['name']} with size {smallest_image['size'][0]}x{smallest_image['size'][1]} pixels\")\n",
    "#     print()"
   ]
  }
 ],
 "metadata": {
  "kernelspec": {
   "display_name": "classifiedenv",
   "language": "python",
   "name": "python3"
  },
  "language_info": {
   "codemirror_mode": {
    "name": "ipython",
    "version": 3
   },
   "file_extension": ".py",
   "mimetype": "text/x-python",
   "name": "python",
   "nbconvert_exporter": "python",
   "pygments_lexer": "ipython3",
   "version": "3.11.9"
  }
 },
 "nbformat": 4,
 "nbformat_minor": 2
}
